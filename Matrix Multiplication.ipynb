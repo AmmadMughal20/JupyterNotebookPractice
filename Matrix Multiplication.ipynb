{
 "cells": [
  {
   "cell_type": "markdown",
   "id": "81a78d56",
   "metadata": {},
   "source": [
    "# The code for matrix multiplication"
   ]
  },
  {
   "cell_type": "code",
   "execution_count": 1,
   "id": "61ceb4fb",
   "metadata": {},
   "outputs": [],
   "source": [
    "dim_matrix_one, dim_matrix_two = [], []"
   ]
  },
  {
   "cell_type": "markdown",
   "id": "d93cec44",
   "metadata": {},
   "source": [
    "#### Taking the number of rows input for first matrix"
   ]
  },
  {
   "cell_type": "code",
   "execution_count": 2,
   "id": "1fac3255",
   "metadata": {},
   "outputs": [
    {
     "name": "stdout",
     "output_type": "stream",
     "text": [
      "Enter first matrix number of rows: 2\n"
     ]
    }
   ],
   "source": [
    "while True:\n",
    "    try:\n",
    "        row_one = int(input(\"Enter first matrix number of rows: \"))\n",
    "        dim_matrix_one.append(row_one)\n",
    "        break\n",
    "    except:\n",
    "        print(\"Try again with numeric value!!!\")"
   ]
  },
  {
   "cell_type": "markdown",
   "id": "cfa7b38f",
   "metadata": {},
   "source": [
    "#### Taking the number of columns input for first matrix"
   ]
  },
  {
   "cell_type": "code",
   "execution_count": 3,
   "id": "783e1d59",
   "metadata": {},
   "outputs": [
    {
     "name": "stdout",
     "output_type": "stream",
     "text": [
      "Enter first matrix number of columns: 3\n"
     ]
    }
   ],
   "source": [
    "while True:\n",
    "    try:\n",
    "        column_one = int(input(\"Enter first matrix number of columns: \"))\n",
    "        dim_matrix_one.append(column_one)\n",
    "        break\n",
    "    except:\n",
    "        print(\"Try again with numeric value!!!\")"
   ]
  },
  {
   "cell_type": "markdown",
   "id": "ef7d5938",
   "metadata": {},
   "source": [
    "#### Taking the number of rows input for second matrix"
   ]
  },
  {
   "cell_type": "code",
   "execution_count": 4,
   "id": "dca5a8fe",
   "metadata": {},
   "outputs": [
    {
     "name": "stdout",
     "output_type": "stream",
     "text": [
      "Enter second matrix number of rows: \n",
      "Try again with numeric value!!!\n",
      "Enter second matrix number of rows: 3\n"
     ]
    }
   ],
   "source": [
    "while True:\n",
    "    try:\n",
    "        row_two = int(input(\"Enter second matrix number of rows: \"))\n",
    "        dim_matrix_one.append(row_two)\n",
    "        break\n",
    "    except:\n",
    "        print(\"Try again with numeric value!!!\")"
   ]
  },
  {
   "cell_type": "markdown",
   "id": "f300931a",
   "metadata": {},
   "source": [
    "#### Taking the number of columns input for second matrix"
   ]
  },
  {
   "cell_type": "code",
   "execution_count": 5,
   "id": "ed05097b",
   "metadata": {},
   "outputs": [
    {
     "name": "stdout",
     "output_type": "stream",
     "text": [
      "Enter second matrix number of columns: 2\n"
     ]
    }
   ],
   "source": [
    "while True:\n",
    "    try:\n",
    "        column_two = int(input(\"Enter second matrix number of columns: \"))\n",
    "        dim_matrix_one.append(column_two)\n",
    "        break\n",
    "    except:\n",
    "        print(\"Try again with numeric value!!!\")"
   ]
  },
  {
   "cell_type": "markdown",
   "id": "daf92ba1",
   "metadata": {},
   "source": [
    "#### Taking the input for both matrices after checking if multiplication is possible"
   ]
  },
  {
   "cell_type": "code",
   "execution_count": 6,
   "id": "3d6acd03",
   "metadata": {},
   "outputs": [
    {
     "name": "stdout",
     "output_type": "stream",
     "text": [
      "Enter first matrix elements!\n",
      "1\n",
      "2\n",
      "3\n",
      "4\n",
      "5\n",
      "6\n",
      "Enter second matrix elements!\n",
      "1\n",
      "2\n",
      "3\n",
      "4\n",
      "5\n",
      "6\n"
     ]
    }
   ],
   "source": [
    "if column_one == row_two:\n",
    "    print(\"Enter first matrix elements!\")\n",
    "    \n",
    "    matrix_one = []\n",
    "    for i in range(row_one):\n",
    "        input_row_one = []\n",
    "        for j in range(column_one):\n",
    "            input_row_one.append(int(input()))\n",
    "        matrix_one.append(input_row_one)\n",
    "        \n",
    "    print(\"Enter second matrix elements!\")\n",
    "        \n",
    "    matrix_two = []\n",
    "    for k in range(row_two):\n",
    "        input_row_two = []\n",
    "        for l in range(column_two):\n",
    "            input_row_two.append(int(input()))\n",
    "        matrix_two.append(input_row_two)\n",
    "else:\n",
    "    print(\"Multiplication is not possible!\")"
   ]
  },
  {
   "cell_type": "markdown",
   "id": "c36dda88",
   "metadata": {},
   "source": [
    "#### Printing the two matrices"
   ]
  },
  {
   "cell_type": "code",
   "execution_count": 7,
   "id": "f13c203c",
   "metadata": {},
   "outputs": [
    {
     "name": "stdout",
     "output_type": "stream",
     "text": [
      "[[1, 2, 3], [4, 5, 6]]\n",
      "[[1, 2], [3, 4], [5, 6]]\n"
     ]
    }
   ],
   "source": [
    "print(matrix_one)\n",
    "print(matrix_two)\n",
    "result = []"
   ]
  },
  {
   "cell_type": "markdown",
   "id": "93a60581",
   "metadata": {},
   "source": [
    "#### Matrix Multiplication and printing\n",
    "#### Got the below Nested List Comprehension from below link: \n",
    "#### https://www.programiz.com/python-programming/examples/multiply-matrix"
   ]
  },
  {
   "cell_type": "code",
   "execution_count": 8,
   "id": "8be35c44",
   "metadata": {},
   "outputs": [
    {
     "name": "stdout",
     "output_type": "stream",
     "text": [
      "[[22, 28], [49, 64]]\n"
     ]
    }
   ],
   "source": [
    "result = [[sum(a*b for a,b in zip(X_row,Y_col)) for Y_col in zip(*matrix_two)] for X_row in matrix_one]\n",
    "print(result)"
   ]
  },
  {
   "cell_type": "code",
   "execution_count": null,
   "id": "7fe4ade3",
   "metadata": {},
   "outputs": [],
   "source": []
  }
 ],
 "metadata": {
  "kernelspec": {
   "display_name": "Python 3 (ipykernel)",
   "language": "python",
   "name": "python3"
  },
  "language_info": {
   "codemirror_mode": {
    "name": "ipython",
    "version": 3
   },
   "file_extension": ".py",
   "mimetype": "text/x-python",
   "name": "python",
   "nbconvert_exporter": "python",
   "pygments_lexer": "ipython3",
   "version": "3.9.12"
  }
 },
 "nbformat": 4,
 "nbformat_minor": 5
}
