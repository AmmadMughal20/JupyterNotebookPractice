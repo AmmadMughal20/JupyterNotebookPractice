{
 "cells": [
  {
   "cell_type": "markdown",
   "id": "981b62e8",
   "metadata": {},
   "source": [
    "# The code to practice try except"
   ]
  },
  {
   "cell_type": "code",
   "execution_count": null,
   "id": "9b05fa00",
   "metadata": {},
   "outputs": [],
   "source": [
    "class Error(Exception):\n",
    "    pass\n",
    "\n",
    "class SpecialCharacterException(Error):\n",
    "    pass"
   ]
  },
  {
   "cell_type": "code",
   "execution_count": null,
   "id": "be9e8973",
   "metadata": {},
   "outputs": [],
   "source": [
    "while True:\n",
    "    try:\n",
    "        user_input = input(\"Enter Your Value: \")\n",
    "        if user_input == '%' or user_input == '&' or user_input == '#' or user_input == \"_\" or user_input == \"-\":\n",
    "            raise SpecialCharacterException\n",
    "        break\n",
    "    except SpecialCharacterException:\n",
    "        print(\"Avoid Special Character\")"
   ]
  }
 ],
 "metadata": {
  "kernelspec": {
   "display_name": "Python 3 (ipykernel)",
   "language": "python",
   "name": "python3"
  },
  "language_info": {
   "codemirror_mode": {
    "name": "ipython",
    "version": 3
   },
   "file_extension": ".py",
   "mimetype": "text/x-python",
   "name": "python",
   "nbconvert_exporter": "python",
   "pygments_lexer": "ipython3",
   "version": "3.9.12"
  }
 },
 "nbformat": 4,
 "nbformat_minor": 5
}
