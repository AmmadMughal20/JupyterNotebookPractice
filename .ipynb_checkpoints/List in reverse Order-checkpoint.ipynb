{
 "cells": [
  {
   "cell_type": "markdown",
   "id": "d00aecde",
   "metadata": {},
   "source": [
    "# The Code to get list input"
   ]
  },
  {
   "cell_type": "code",
   "execution_count": null,
   "id": "4da775fb",
   "metadata": {},
   "outputs": [],
   "source": [
    "list = input(\"Enter Your numbers, comma(,) separated: \")"
   ]
  },
  {
   "cell_type": "markdown",
   "id": "5013e24e",
   "metadata": {},
   "source": [
    "# The Code to reverse the list and print"
   ]
  },
  {
   "cell_type": "code",
   "execution_count": null,
   "id": "a96b71c6",
   "metadata": {},
   "outputs": [],
   "source": [
    "reversed_list = list[len(list)::-1]\n",
    "print(f\"Reversed List: {reversed_list}\")"
   ]
  }
 ],
 "metadata": {
  "kernelspec": {
   "display_name": "Python 3 (ipykernel)",
   "language": "python",
   "name": "python3"
  },
  "language_info": {
   "codemirror_mode": {
    "name": "ipython",
    "version": 3
   },
   "file_extension": ".py",
   "mimetype": "text/x-python",
   "name": "python",
   "nbconvert_exporter": "python",
   "pygments_lexer": "ipython3",
   "version": "3.9.12"
  }
 },
 "nbformat": 4,
 "nbformat_minor": 5
}
